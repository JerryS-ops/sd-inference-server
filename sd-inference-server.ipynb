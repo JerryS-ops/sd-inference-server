{
  "nbformat": 4,
  "nbformat_minor": 0,
  "metadata": {
    "colab": {
      "provenance": []
    },
    "kernelspec": {
      "name": "python3",
      "display_name": "Python 3"
    },
    "language_info": {
      "name": "python"
    },
    "accelerator": "GPU",
    "gpuClass": "standard"
  },
  "cells": [
    {
      "cell_type": "code",
      "execution_count": null,
      "metadata": {
        "id": "ut__oyMX5c1p"
      },
      "outputs": [],
      "source": [
        "!python --version\n",
        "!sudo apt-get update -y\n",
        "!sudo apt-get install python3.9\n",
        "!sudo update-alternatives --install /usr/bin/python3 python3 /usr/bin/python3.8 1\n",
        "!sudo update-alternatives --install /usr/bin/python3 python3 /usr/bin/python3.9 2\n",
        "!sudo apt-get install python3.9-distutils\n",
        "!wget https://bootstrap.pypa.io/get-pip.py\n",
        "!python get-pip.py\n",
        "!python -m pip install ipython ipython_genutils ipykernel jupyter_console prompt_toolkit httplib2 astor\n",
        "!ln -s /usr/local/lib/python3.8/dist-packages/google /usr/local/lib/python3.9/dist-packages/google"
      ]
    },
    {
      "cell_type": "code",
      "source": [
        "%cd /content\n",
        "!git clone https://github.com/arenatemp/sd-inference-server.git\n",
        "%cd /content/sd-inference-server\n",
        "!pip install -r requirements.txt\n",
        "!pip install -U xformers\n",
        "!pip install -q --pre triton"
      ],
      "metadata": {
        "id": "whoxg9A87Zl7"
      },
      "execution_count": null,
      "outputs": []
    },
    {
      "cell_type": "code",
      "source": [
        "!wget -O models/SD/Anything-V3.st https://sdexchange.net/download/Anything-V3.st"
      ],
      "metadata": {
        "id": "SPzx5jKw9OW8"
      },
      "execution_count": null,
      "outputs": []
    },
    {
      "cell_type": "code",
      "source": [
        "!python main.py"
      ],
      "metadata": {
        "id": "fqub3etfBF-d"
      },
      "execution_count": null,
      "outputs": []
    }
  ]
}