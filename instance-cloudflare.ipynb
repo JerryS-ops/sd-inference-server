{
  "cells": [
    {
      "cell_type": "code",
      "execution_count": null,
      "metadata": {
        "id": "whoxg9A87Zl7"
      },
      "outputs": [],
      "source": [
        "!cd /content\n",
        "!git clone https://github.com/arenatemp/sd-inference-server.git\n",
        "!cd /content/sd-inference-server\n",
        "!pip install -r requirements.txt\n",
        "!pip install pycloudflared\n",
        "!pip install -U xformers\n",
        "!pip install -q --pre triton\n",
        "# Restarting runtime\n",
        "import os\n",
        "os.kill(os.getpid(), 9)"
      ]
    },
    {
      "cell_type": "code",
      "execution_count": null,
      "metadata": {
        "id": "SPzx5jKw9OW8"
      },
      "outputs": [],
      "source": [
        "!cd /content/sd-inference-server\n",
        "!gdown \"11In-0OXheoKEzl4WrEWK7fRfcGSatpTI&confirm=t\" -O models/SD/Anything-V3.st"
      ]
    },
    {
      "cell_type": "code",
      "execution_count": null,
      "metadata": {
        "id": "fqub3etfBF-d"
      },
      "outputs": [],
      "source": [
        "!cd /content/sd-inference-server\n",
        "import torch\n",
        "import attention\n",
        "import storage\n",
        "import wrapper\n",
        "from server import Server\n",
        "\n",
        "attention.use_optimized_attention()\n",
        "\n",
        "model_storage = storage.ModelStorage(\"./models\", torch.float16, torch.float32)\n",
        "params = wrapper.GenerationParameters(model_storage, torch.device(\"cuda\"))\n",
        "\n",
        "server = Server(params, \"127.0.0.1\", \"28888\")\n",
        "server.start()\n",
        "\n",
        "from pycloudflared import try_cloudflare\n",
        "tunnel_url = try_cloudflare(port=28888, verbose=False)\n",
        "print(tunnel_url.tunnel.replace(\"https\", \"wss\"))"
      ]
    }
  ],
  "metadata": {
    "accelerator": "GPU",
    "colab": {
      "provenance": []
    },
    "gpuClass": "standard",
    "kernelspec": {
      "display_name": "Python 3",
      "language": "python",
      "name": "python3"
    },
    "language_info": {
      "name": "python",
      "version": "3.10.9"
    },
    "vscode": {
      "interpreter": {
        "hash": "e7370f93d1d0cde622a1f8e1c04877d8463912d04d973331ad4851f04de6915a"
      }
    }
  },
  "nbformat": 4,
  "nbformat_minor": 0
}
